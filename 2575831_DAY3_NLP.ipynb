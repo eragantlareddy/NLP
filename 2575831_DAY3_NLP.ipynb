{
 "cells": [
  {
   "cell_type": "code",
   "execution_count": 1,
   "id": "f429c81a",
   "metadata": {},
   "outputs": [
    {
     "name": "stderr",
     "output_type": "stream",
     "text": [
      "[nltk_data] Downloading package punkt to ....\n",
      "[nltk_data]   Package punkt is already up-to-date!\n",
      "[nltk_data] Downloading package stopwords to ....\n",
      "[nltk_data]   Package stopwords is already up-to-date!\n",
      "[nltk_data] Downloading package stopwords to\n",
      "[nltk_data]     C:\\Users\\phani\\AppData\\Roaming\\nltk_data...\n",
      "[nltk_data]   Package stopwords is already up-to-date!\n"
     ]
    }
   ],
   "source": [
    "import nltk\n",
    "nltk.download('punkt', download_dir='.')\n",
    "nltk.download('stopwords', download_dir='.')\n",
    "nltk.download('stopwords')\n",
    "import string\n",
    "from sklearn.feature_extraction.text import CountVectorizer\n",
    "from sklearn.metrics import pairwise_distances\n",
    "import keras\n",
    "\n",
    "import pandas as pd\n",
    "import numpy as np"
   ]
  },
  {
   "cell_type": "code",
   "execution_count": 2,
   "id": "18272301",
   "metadata": {},
   "outputs": [],
   "source": [
    "import tensorflow as tf"
   ]
  },
  {
   "cell_type": "code",
   "execution_count": 3,
   "id": "b115e19c",
   "metadata": {},
   "outputs": [
    {
     "name": "stdout",
     "output_type": "stream",
     "text": [
      "Requirement already satisfied: livelossplot in e:\\anaconda\\lib\\site-packages (0.5.5)\n",
      "Requirement already satisfied: matplotlib in e:\\anaconda\\lib\\site-packages (from livelossplot) (3.7.1)\n",
      "Requirement already satisfied: bokeh in e:\\anaconda\\lib\\site-packages (from livelossplot) (3.2.1)\n",
      "Requirement already satisfied: Jinja2>=2.9 in e:\\anaconda\\lib\\site-packages (from bokeh->livelossplot) (3.1.2)\n",
      "Requirement already satisfied: contourpy>=1 in e:\\anaconda\\lib\\site-packages (from bokeh->livelossplot) (1.0.5)\n",
      "Requirement already satisfied: numpy>=1.16 in e:\\anaconda\\lib\\site-packages (from bokeh->livelossplot) (1.24.3)\n",
      "Requirement already satisfied: packaging>=16.8 in e:\\anaconda\\lib\\site-packages (from bokeh->livelossplot) (23.0)\n",
      "Requirement already satisfied: pandas>=1.2 in e:\\anaconda\\lib\\site-packages (from bokeh->livelossplot) (2.1.2)\n",
      "Requirement already satisfied: pillow>=7.1.0 in e:\\anaconda\\lib\\site-packages (from bokeh->livelossplot) (9.4.0)\n",
      "Requirement already satisfied: PyYAML>=3.10 in e:\\anaconda\\lib\\site-packages (from bokeh->livelossplot) (6.0)\n",
      "Requirement already satisfied: tornado>=5.1 in e:\\anaconda\\lib\\site-packages (from bokeh->livelossplot) (6.3.2)\n",
      "Requirement already satisfied: xyzservices>=2021.09.1 in e:\\anaconda\\lib\\site-packages (from bokeh->livelossplot) (2022.9.0)\n",
      "Requirement already satisfied: cycler>=0.10 in e:\\anaconda\\lib\\site-packages (from matplotlib->livelossplot) (0.11.0)\n",
      "Requirement already satisfied: fonttools>=4.22.0 in e:\\anaconda\\lib\\site-packages (from matplotlib->livelossplot) (4.25.0)\n",
      "Requirement already satisfied: kiwisolver>=1.0.1 in e:\\anaconda\\lib\\site-packages (from matplotlib->livelossplot) (1.4.4)\n",
      "Requirement already satisfied: pyparsing>=2.3.1 in e:\\anaconda\\lib\\site-packages (from matplotlib->livelossplot) (3.0.9)\n",
      "Requirement already satisfied: python-dateutil>=2.7 in e:\\anaconda\\lib\\site-packages (from matplotlib->livelossplot) (2.8.2)\n",
      "Requirement already satisfied: MarkupSafe>=2.0 in e:\\anaconda\\lib\\site-packages (from Jinja2>=2.9->bokeh->livelossplot) (2.1.1)\n",
      "Requirement already satisfied: pytz>=2020.1 in e:\\anaconda\\lib\\site-packages (from pandas>=1.2->bokeh->livelossplot) (2022.7)\n",
      "Requirement already satisfied: tzdata>=2022.1 in e:\\anaconda\\lib\\site-packages (from pandas>=1.2->bokeh->livelossplot) (2023.3)\n",
      "Requirement already satisfied: six>=1.5 in e:\\anaconda\\lib\\site-packages (from python-dateutil>=2.7->matplotlib->livelossplot) (1.16.0)\n"
     ]
    }
   ],
   "source": [
    "!pip install livelossplot"
   ]
  },
  {
   "cell_type": "code",
   "execution_count": 4,
   "id": "434f474b",
   "metadata": {},
   "outputs": [],
   "source": [
    "from livelossplot.tf_keras import PlotLossesCallback"
   ]
  },
  {
   "cell_type": "code",
   "execution_count": 5,
   "id": "9a034b53",
   "metadata": {},
   "outputs": [
    {
     "data": {
      "text/html": [
       "<div>\n",
       "<style scoped>\n",
       "    .dataframe tbody tr th:only-of-type {\n",
       "        vertical-align: middle;\n",
       "    }\n",
       "\n",
       "    .dataframe tbody tr th {\n",
       "        vertical-align: top;\n",
       "    }\n",
       "\n",
       "    .dataframe thead th {\n",
       "        text-align: right;\n",
       "    }\n",
       "</style>\n",
       "<table border=\"1\" class=\"dataframe\">\n",
       "  <thead>\n",
       "    <tr style=\"text-align: right;\">\n",
       "      <th></th>\n",
       "      <th>2401</th>\n",
       "      <th>Borderlands</th>\n",
       "      <th>Positive</th>\n",
       "      <th>im getting on borderlands and i will murder you all ,</th>\n",
       "    </tr>\n",
       "  </thead>\n",
       "  <tbody>\n",
       "    <tr>\n",
       "      <th>0</th>\n",
       "      <td>2401</td>\n",
       "      <td>Borderlands</td>\n",
       "      <td>Positive</td>\n",
       "      <td>I am coming to the borders and I will kill you...</td>\n",
       "    </tr>\n",
       "    <tr>\n",
       "      <th>1</th>\n",
       "      <td>2401</td>\n",
       "      <td>Borderlands</td>\n",
       "      <td>Positive</td>\n",
       "      <td>im getting on borderlands and i will kill you ...</td>\n",
       "    </tr>\n",
       "    <tr>\n",
       "      <th>2</th>\n",
       "      <td>2401</td>\n",
       "      <td>Borderlands</td>\n",
       "      <td>Positive</td>\n",
       "      <td>im coming on borderlands and i will murder you...</td>\n",
       "    </tr>\n",
       "    <tr>\n",
       "      <th>3</th>\n",
       "      <td>2401</td>\n",
       "      <td>Borderlands</td>\n",
       "      <td>Positive</td>\n",
       "      <td>im getting on borderlands 2 and i will murder ...</td>\n",
       "    </tr>\n",
       "    <tr>\n",
       "      <th>4</th>\n",
       "      <td>2401</td>\n",
       "      <td>Borderlands</td>\n",
       "      <td>Positive</td>\n",
       "      <td>im getting into borderlands and i can murder y...</td>\n",
       "    </tr>\n",
       "  </tbody>\n",
       "</table>\n",
       "</div>"
      ],
      "text/plain": [
       "   2401  Borderlands  Positive  \\\n",
       "0  2401  Borderlands  Positive   \n",
       "1  2401  Borderlands  Positive   \n",
       "2  2401  Borderlands  Positive   \n",
       "3  2401  Borderlands  Positive   \n",
       "4  2401  Borderlands  Positive   \n",
       "\n",
       "  im getting on borderlands and i will murder you all ,  \n",
       "0  I am coming to the borders and I will kill you...     \n",
       "1  im getting on borderlands and i will kill you ...     \n",
       "2  im coming on borderlands and i will murder you...     \n",
       "3  im getting on borderlands 2 and i will murder ...     \n",
       "4  im getting into borderlands and i can murder y...     "
      ]
     },
     "execution_count": 5,
     "metadata": {},
     "output_type": "execute_result"
    }
   ],
   "source": [
    "df = pd.read_csv('D:/ML/twitter_training.csv')\n",
    "df.head()"
   ]
  },
  {
   "cell_type": "code",
   "execution_count": 6,
   "id": "873a5d84",
   "metadata": {},
   "outputs": [
    {
     "data": {
      "text/plain": [
       "(74681, 4)"
      ]
     },
     "execution_count": 6,
     "metadata": {},
     "output_type": "execute_result"
    }
   ],
   "source": [
    "df.shape"
   ]
  },
  {
   "cell_type": "code",
   "execution_count": 7,
   "id": "0a367e22",
   "metadata": {},
   "outputs": [],
   "source": [
    "df.drop(df[df.iloc[:, -1].isnull()].index, inplace=True)"
   ]
  },
  {
   "cell_type": "code",
   "execution_count": 8,
   "id": "7166a18e",
   "metadata": {},
   "outputs": [
    {
     "data": {
      "text/plain": [
       "(73995, 4)"
      ]
     },
     "execution_count": 8,
     "metadata": {},
     "output_type": "execute_result"
    }
   ],
   "source": [
    "df.shape"
   ]
  },
  {
   "cell_type": "code",
   "execution_count": 9,
   "id": "e3193dce",
   "metadata": {},
   "outputs": [],
   "source": [
    "def tokenize_text(text):\n",
    "    tokenized_str = nltk.word_tokenize(text)\n",
    "    stop_words = nltk.corpus.stopwords.words('english')\n",
    "    tokens = [i.lower() for i in tokenized_str if i not in string.punctuation]\n",
    "    tokens = [i.lower() for i in tokens if i not in stop_words]\n",
    "    return tokens"
   ]
  },
  {
   "cell_type": "code",
   "execution_count": 10,
   "id": "0900bfcf",
   "metadata": {},
   "outputs": [
    {
     "data": {
      "text/plain": [
       "0                  [coming, borders, kill]\n",
       "1         [im, getting, borderlands, kill]\n",
       "2        [im, coming, borderlands, murder]\n",
       "3    [im, getting, borderlands, 2, murder]\n",
       "4       [im, getting, borderlands, murder]\n",
       "Name: im getting on borderlands and i will murder you all ,, dtype: object"
      ]
     },
     "execution_count": 10,
     "metadata": {},
     "output_type": "execute_result"
    }
   ],
   "source": [
    "tokensed_tweets = df.iloc[:, -1].apply(tokenize_text)\n",
    "tokensed_tweets[:5]"
   ]
  },
  {
   "cell_type": "code",
   "execution_count": 11,
   "id": "e534e8be",
   "metadata": {},
   "outputs": [],
   "source": [
    "df['tokensed_tweets'] = tokensed_tweets"
   ]
  },
  {
   "cell_type": "code",
   "execution_count": 12,
   "id": "98647cbf",
   "metadata": {},
   "outputs": [
    {
     "data": {
      "text/html": [
       "<div>\n",
       "<style scoped>\n",
       "    .dataframe tbody tr th:only-of-type {\n",
       "        vertical-align: middle;\n",
       "    }\n",
       "\n",
       "    .dataframe tbody tr th {\n",
       "        vertical-align: top;\n",
       "    }\n",
       "\n",
       "    .dataframe thead th {\n",
       "        text-align: right;\n",
       "    }\n",
       "</style>\n",
       "<table border=\"1\" class=\"dataframe\">\n",
       "  <thead>\n",
       "    <tr style=\"text-align: right;\">\n",
       "      <th></th>\n",
       "      <th>2401</th>\n",
       "      <th>Borderlands</th>\n",
       "      <th>Positive</th>\n",
       "      <th>im getting on borderlands and i will murder you all ,</th>\n",
       "      <th>tokensed_tweets</th>\n",
       "    </tr>\n",
       "  </thead>\n",
       "  <tbody>\n",
       "    <tr>\n",
       "      <th>0</th>\n",
       "      <td>2401</td>\n",
       "      <td>Borderlands</td>\n",
       "      <td>Positive</td>\n",
       "      <td>I am coming to the borders and I will kill you...</td>\n",
       "      <td>[coming, borders, kill]</td>\n",
       "    </tr>\n",
       "    <tr>\n",
       "      <th>1</th>\n",
       "      <td>2401</td>\n",
       "      <td>Borderlands</td>\n",
       "      <td>Positive</td>\n",
       "      <td>im getting on borderlands and i will kill you ...</td>\n",
       "      <td>[im, getting, borderlands, kill]</td>\n",
       "    </tr>\n",
       "    <tr>\n",
       "      <th>2</th>\n",
       "      <td>2401</td>\n",
       "      <td>Borderlands</td>\n",
       "      <td>Positive</td>\n",
       "      <td>im coming on borderlands and i will murder you...</td>\n",
       "      <td>[im, coming, borderlands, murder]</td>\n",
       "    </tr>\n",
       "    <tr>\n",
       "      <th>3</th>\n",
       "      <td>2401</td>\n",
       "      <td>Borderlands</td>\n",
       "      <td>Positive</td>\n",
       "      <td>im getting on borderlands 2 and i will murder ...</td>\n",
       "      <td>[im, getting, borderlands, 2, murder]</td>\n",
       "    </tr>\n",
       "    <tr>\n",
       "      <th>4</th>\n",
       "      <td>2401</td>\n",
       "      <td>Borderlands</td>\n",
       "      <td>Positive</td>\n",
       "      <td>im getting into borderlands and i can murder y...</td>\n",
       "      <td>[im, getting, borderlands, murder]</td>\n",
       "    </tr>\n",
       "  </tbody>\n",
       "</table>\n",
       "</div>"
      ],
      "text/plain": [
       "   2401  Borderlands  Positive  \\\n",
       "0  2401  Borderlands  Positive   \n",
       "1  2401  Borderlands  Positive   \n",
       "2  2401  Borderlands  Positive   \n",
       "3  2401  Borderlands  Positive   \n",
       "4  2401  Borderlands  Positive   \n",
       "\n",
       "  im getting on borderlands and i will murder you all ,  \\\n",
       "0  I am coming to the borders and I will kill you...      \n",
       "1  im getting on borderlands and i will kill you ...      \n",
       "2  im coming on borderlands and i will murder you...      \n",
       "3  im getting on borderlands 2 and i will murder ...      \n",
       "4  im getting into borderlands and i can murder y...      \n",
       "\n",
       "                         tokensed_tweets  \n",
       "0                [coming, borders, kill]  \n",
       "1       [im, getting, borderlands, kill]  \n",
       "2      [im, coming, borderlands, murder]  \n",
       "3  [im, getting, borderlands, 2, murder]  \n",
       "4     [im, getting, borderlands, murder]  "
      ]
     },
     "execution_count": 12,
     "metadata": {},
     "output_type": "execute_result"
    }
   ],
   "source": [
    "df.head()"
   ]
  },
  {
   "cell_type": "code",
   "execution_count": 13,
   "id": "c0da42b7",
   "metadata": {},
   "outputs": [],
   "source": [
    "from gensim.models import Word2Vec\n",
    "w2v = Word2Vec(df['tokensed_tweets'], vector_size=256, window=10, min_count=10, workers=4, sg=1)"
   ]
  },
  {
   "cell_type": "code",
   "execution_count": 14,
   "id": "d2db0fc4",
   "metadata": {},
   "outputs": [
    {
     "data": {
      "text/plain": [
       "array([ 1.92686126e-01, -1.13128103e-01,  2.50321627e-02, -3.50132622e-02,\n",
       "       -1.49561718e-01,  3.51369917e-01, -1.10053137e-01, -1.43239453e-01,\n",
       "       -1.57028448e-03,  1.49392277e-01, -1.63679272e-01,  2.46655151e-01,\n",
       "        3.08320485e-02, -4.23193276e-01, -7.24763870e-02,  6.90223694e-01,\n",
       "       -2.19419867e-01, -3.53814662e-01,  2.77721256e-01,  3.50441366e-01,\n",
       "       -3.33556235e-02, -1.06071092e-01, -6.93175122e-02, -6.85407877e-01,\n",
       "        6.21076785e-02, -2.49896594e-03,  2.90004820e-01,  8.97131711e-02,\n",
       "       -3.40937003e-02,  3.94263901e-02,  4.91477519e-01,  1.46503970e-01,\n",
       "        1.13713592e-01, -5.77666879e-01, -2.34692782e-01, -5.17407730e-02,\n",
       "       -7.09578246e-02, -3.40498447e-01, -5.75664580e-01, -2.92421579e-01,\n",
       "        3.39463085e-01,  2.35605970e-01, -6.96405172e-02,  1.50317818e-01,\n",
       "       -1.50522634e-01, -2.11667921e-03, -3.92681267e-03, -1.36331081e-01,\n",
       "        3.18159044e-01,  1.11984164e-01,  1.38324514e-01, -6.20211649e-04,\n",
       "       -1.81305893e-02, -2.92411774e-01,  1.47418976e-01, -1.41513631e-01,\n",
       "       -7.93377832e-02,  2.23521562e-03, -1.57150581e-01,  1.34265095e-01,\n",
       "       -2.11815573e-02,  3.27431232e-01, -1.02092884e-01,  2.50496149e-01,\n",
       "        5.80583587e-02,  6.00320995e-02, -1.06382787e-01, -2.46304218e-02,\n",
       "       -1.54900718e-02, -3.88159215e-01,  1.79994494e-01,  8.16921145e-02,\n",
       "       -8.71760547e-02,  9.84046981e-02, -2.35378057e-01, -6.67553395e-02,\n",
       "        6.64615035e-02, -3.01123299e-02, -1.44156620e-01,  1.94992661e-01,\n",
       "        3.38661492e-01, -1.40805587e-01,  2.69188471e-02, -1.66182071e-01,\n",
       "       -9.03923884e-02, -2.96883546e-02, -2.49370292e-01,  2.32748404e-01,\n",
       "       -3.13848853e-01,  9.39560011e-02, -1.46812409e-01,  2.13453621e-01,\n",
       "        7.71918148e-02,  1.35325775e-01,  1.72699332e-01, -9.62549374e-02,\n",
       "        6.10228963e-02, -1.49225861e-01, -7.15638623e-02, -1.83750078e-01,\n",
       "        2.06013963e-01, -1.73020009e-02, -3.97414178e-01, -1.42149568e-01,\n",
       "        3.04707617e-01,  7.99796358e-02, -1.10960223e-01, -1.82998270e-01,\n",
       "        1.49760991e-01, -2.11184155e-02, -9.99420695e-03,  9.19592660e-03,\n",
       "       -4.05346006e-01, -6.67882338e-02,  1.20533802e-01, -1.70535706e-02,\n",
       "        1.08329095e-01, -3.57096821e-01,  1.29173905e-01,  2.34453350e-01,\n",
       "       -9.99872312e-02, -1.10142089e-01, -1.63660273e-01, -1.59510210e-01,\n",
       "       -1.50696099e-01,  1.13174804e-01,  2.08524719e-01,  3.67561206e-02,\n",
       "       -1.81330040e-01, -1.56256571e-01,  2.20556203e-02, -1.86952859e-01,\n",
       "        8.89592022e-02, -1.12134879e-02,  1.07886881e-01, -1.22387826e-01,\n",
       "       -3.87589931e-02, -1.73440039e-01, -9.19881910e-02, -6.79024756e-02,\n",
       "       -8.65667537e-02,  2.30261996e-01, -4.13052775e-02,  1.86317384e-01,\n",
       "       -4.05502766e-02, -3.09371024e-01,  6.08350299e-02, -1.15661286e-01,\n",
       "        7.73175061e-02, -2.59461224e-01, -6.56732842e-02, -1.34513140e-01,\n",
       "        7.44589418e-02,  9.01864991e-02,  5.32600470e-02,  2.50967950e-01,\n",
       "        4.27097291e-01, -2.13381872e-01, -3.53500426e-01, -2.35385895e-01,\n",
       "        7.63730556e-02, -5.18012699e-03,  2.58273214e-01, -5.48211746e-02,\n",
       "        9.65983570e-02, -2.22009480e-01,  5.10212421e-01,  1.47406489e-01,\n",
       "        2.66946673e-01, -2.92108823e-02,  3.06633502e-01,  4.43385877e-02,\n",
       "        3.39197993e-01,  1.45307526e-01, -8.83846655e-02, -1.20513499e-01,\n",
       "       -1.57698080e-01,  4.13078099e-01, -4.77696985e-01,  1.90182805e-01,\n",
       "        3.07051271e-01, -4.90235649e-02, -1.39822187e-02, -6.83030859e-02,\n",
       "        4.89532858e-01, -1.68528501e-02, -1.03591867e-02, -4.89318758e-01,\n",
       "        1.25970505e-02, -7.15270564e-02, -1.12874433e-02, -2.43497845e-02,\n",
       "        2.28188321e-01,  2.98323724e-02, -5.04800007e-02, -6.87899813e-03,\n",
       "        4.60914403e-01,  3.34252827e-02,  3.37752461e-01, -1.59081668e-01,\n",
       "       -2.82541718e-02, -3.87758672e-01,  2.40760133e-01,  1.96393952e-01,\n",
       "       -2.09834695e-01,  2.54675448e-01,  2.55699664e-01, -5.88383675e-02,\n",
       "        1.51034212e-02, -2.01631919e-01, -3.34101729e-02, -3.11021715e-01,\n",
       "       -1.48405746e-01, -9.84418169e-02, -2.87632341e-04, -3.17254156e-01,\n",
       "       -1.97185546e-01,  2.30649300e-02, -8.24373886e-02, -8.88047814e-02,\n",
       "        1.67125970e-01,  1.46996602e-01,  2.06002727e-01,  4.39425744e-02,\n",
       "       -1.82492360e-02,  1.54960245e-01,  1.66123271e-01, -3.65912497e-01,\n",
       "        1.18156085e-02, -1.58956815e-02, -2.86184967e-01, -2.59698987e-01,\n",
       "        2.43686229e-01, -1.42516971e-01,  1.88160524e-01,  2.60231823e-01,\n",
       "        3.33615839e-02, -6.41452381e-03, -1.02264360e-01, -2.00996995e-01,\n",
       "        3.06821078e-01,  7.68725350e-02,  9.81723890e-02,  1.08511571e-03,\n",
       "        1.72580630e-01,  9.65895653e-02,  4.00724232e-01, -1.82228252e-01,\n",
       "        3.97371352e-01, -4.83768396e-02,  2.62588263e-02,  1.98936567e-01,\n",
       "       -9.94939432e-02, -2.78475191e-02, -1.15566533e-02,  2.34984741e-01],\n",
       "      dtype=float32)"
      ]
     },
     "execution_count": 14,
     "metadata": {},
     "output_type": "execute_result"
    }
   ],
   "source": [
    "w2v.wv.get_vector('android')"
   ]
  },
  {
   "cell_type": "code",
   "execution_count": 15,
   "id": "66062626",
   "metadata": {},
   "outputs": [
    {
     "data": {
      "text/plain": [
       "[('ios', 0.7408823370933533),\n",
       " ('itt', 0.6689788699150085),\n",
       " ('api', 0.6428942084312439),\n",
       " ('processor', 0.6267159581184387),\n",
       " ('failure', 0.6218145489692688),\n",
       " ('keyboard', 0.6144088506698608),\n",
       " ('pso2', 0.6135131120681763),\n",
       " ('universal', 0.613447904586792),\n",
       " ('kin', 0.6115372180938721),\n",
       " ('lite', 0.606548547744751)]"
      ]
     },
     "execution_count": 15,
     "metadata": {},
     "output_type": "execute_result"
    }
   ],
   "source": [
    "w2v.wv.most_similar('android')"
   ]
  },
  {
   "cell_type": "code",
   "execution_count": 16,
   "id": "2e29a099",
   "metadata": {},
   "outputs": [
    {
     "data": {
      "text/plain": [
       "7884"
      ]
     },
     "execution_count": 16,
     "metadata": {},
     "output_type": "execute_result"
    }
   ],
   "source": [
    "word_vocab = w2v.wv.key_to_index\n",
    "len(word_vocab.keys())"
   ]
  },
  {
   "cell_type": "code",
   "execution_count": 17,
   "id": "55e3696c",
   "metadata": {},
   "outputs": [
    {
     "data": {
      "text/plain": [
       "array(['Positive', 'Neutral', 'Negative', 'Irrelevant'], dtype=object)"
      ]
     },
     "execution_count": 17,
     "metadata": {},
     "output_type": "execute_result"
    }
   ],
   "source": [
    "df.Positive.unique()"
   ]
  },
  {
   "cell_type": "code",
   "execution_count": 18,
   "id": "ac906a2f",
   "metadata": {},
   "outputs": [
    {
     "data": {
      "text/html": [
       "<div>\n",
       "<style scoped>\n",
       "    .dataframe tbody tr th:only-of-type {\n",
       "        vertical-align: middle;\n",
       "    }\n",
       "\n",
       "    .dataframe tbody tr th {\n",
       "        vertical-align: top;\n",
       "    }\n",
       "\n",
       "    .dataframe thead th {\n",
       "        text-align: right;\n",
       "    }\n",
       "</style>\n",
       "<table border=\"1\" class=\"dataframe\">\n",
       "  <thead>\n",
       "    <tr style=\"text-align: right;\">\n",
       "      <th></th>\n",
       "      <th>2401</th>\n",
       "      <th>Borderlands</th>\n",
       "      <th>Positive</th>\n",
       "      <th>im getting on borderlands and i will murder you all ,</th>\n",
       "      <th>tokensed_tweets</th>\n",
       "    </tr>\n",
       "  </thead>\n",
       "  <tbody>\n",
       "    <tr>\n",
       "      <th>0</th>\n",
       "      <td>2401</td>\n",
       "      <td>Borderlands</td>\n",
       "      <td>3</td>\n",
       "      <td>I am coming to the borders and I will kill you...</td>\n",
       "      <td>[coming, borders, kill]</td>\n",
       "    </tr>\n",
       "    <tr>\n",
       "      <th>1</th>\n",
       "      <td>2401</td>\n",
       "      <td>Borderlands</td>\n",
       "      <td>3</td>\n",
       "      <td>im getting on borderlands and i will kill you ...</td>\n",
       "      <td>[im, getting, borderlands, kill]</td>\n",
       "    </tr>\n",
       "    <tr>\n",
       "      <th>2</th>\n",
       "      <td>2401</td>\n",
       "      <td>Borderlands</td>\n",
       "      <td>3</td>\n",
       "      <td>im coming on borderlands and i will murder you...</td>\n",
       "      <td>[im, coming, borderlands, murder]</td>\n",
       "    </tr>\n",
       "    <tr>\n",
       "      <th>3</th>\n",
       "      <td>2401</td>\n",
       "      <td>Borderlands</td>\n",
       "      <td>3</td>\n",
       "      <td>im getting on borderlands 2 and i will murder ...</td>\n",
       "      <td>[im, getting, borderlands, 2, murder]</td>\n",
       "    </tr>\n",
       "    <tr>\n",
       "      <th>4</th>\n",
       "      <td>2401</td>\n",
       "      <td>Borderlands</td>\n",
       "      <td>3</td>\n",
       "      <td>im getting into borderlands and i can murder y...</td>\n",
       "      <td>[im, getting, borderlands, murder]</td>\n",
       "    </tr>\n",
       "  </tbody>\n",
       "</table>\n",
       "</div>"
      ],
      "text/plain": [
       "   2401  Borderlands  Positive  \\\n",
       "0  2401  Borderlands         3   \n",
       "1  2401  Borderlands         3   \n",
       "2  2401  Borderlands         3   \n",
       "3  2401  Borderlands         3   \n",
       "4  2401  Borderlands         3   \n",
       "\n",
       "  im getting on borderlands and i will murder you all ,  \\\n",
       "0  I am coming to the borders and I will kill you...      \n",
       "1  im getting on borderlands and i will kill you ...      \n",
       "2  im coming on borderlands and i will murder you...      \n",
       "3  im getting on borderlands 2 and i will murder ...      \n",
       "4  im getting into borderlands and i can murder y...      \n",
       "\n",
       "                         tokensed_tweets  \n",
       "0                [coming, borders, kill]  \n",
       "1       [im, getting, borderlands, kill]  \n",
       "2      [im, coming, borderlands, murder]  \n",
       "3  [im, getting, borderlands, 2, murder]  \n",
       "4     [im, getting, borderlands, murder]  "
      ]
     },
     "execution_count": 18,
     "metadata": {},
     "output_type": "execute_result"
    }
   ],
   "source": [
    "from sklearn.preprocessing import LabelEncoder\n",
    "\n",
    "encoder = LabelEncoder()\n",
    "\n",
    "df['Positive'] = encoder.fit_transform(df['Positive'])\n",
    "df.head()"
   ]
  },
  {
   "cell_type": "code",
   "execution_count": 19,
   "id": "bc889afc",
   "metadata": {},
   "outputs": [
    {
     "data": {
      "text/plain": [
       "array([3, 2, 1, 0])"
      ]
     },
     "execution_count": 19,
     "metadata": {},
     "output_type": "execute_result"
    }
   ],
   "source": [
    "df.Positive.unique()"
   ]
  },
  {
   "cell_type": "code",
   "execution_count": 20,
   "id": "a0695428",
   "metadata": {},
   "outputs": [],
   "source": [
    "word_vocab = {k:(v+3) for k,v in word_vocab.items()}\n",
    "word_vocab[\"<PAD>\"] = 0\n",
    "word_vocab[\"<START>\"] = 1\n",
    "word_vocab[\"<UNKNOWN>\"] = 2\n",
    "\n",
    "reverse_word_vocab = dict([(value, key) for (key, value) in word_vocab.items()])\n",
    "\n",
    "# index sequence to text\n",
    "def decode_review(text):\n",
    "    return ' '.join([reverse_word_vocab.get(i, '?') for i in text])\n",
    "\n",
    "# text to index sequence\n",
    "def encode_review(text):\n",
    "    text = ['<START>'] + text\n",
    "    idxs = np.array([word_vocab.get(word, word_vocab['<UNKNOWN>']) for word in text])\n",
    "    return idxs"
   ]
  },
  {
   "cell_type": "code",
   "execution_count": 21,
   "id": "6a432e93",
   "metadata": {},
   "outputs": [
    {
     "name": "stdout",
     "output_type": "stream",
     "text": [
      "['im', 'getting', 'borderlands', 'kill']\n",
      "[  1 206  94  69 320]\n",
      "Example of a decoded review: \n",
      "<START> im getting borderlands kill\n"
     ]
    }
   ],
   "source": [
    "df['vect'] = df.tokensed_tweets.apply(encode_review)\n",
    "\n",
    "print(df.tokensed_tweets[1])\n",
    "print(df.vect[1])\n",
    "print('Example of a decoded review: \\n{}'.format(decode_review(df.vect[1])))"
   ]
  },
  {
   "cell_type": "code",
   "execution_count": 22,
   "id": "c003d184",
   "metadata": {},
   "outputs": [],
   "source": [
    "from sklearn.model_selection import train_test_split\n",
    "X_train, X_test, y_train, y_test = train_test_split(df.vect, df.Positive, test_size=0.2, random_state=40)"
   ]
  },
  {
   "cell_type": "code",
   "execution_count": 23,
   "id": "f6686b38",
   "metadata": {},
   "outputs": [
    {
     "data": {
      "text/plain": [
       "9952     [1, 217, 187, 55, 267, 1957, 4823, 1069, 63, 3...\n",
       "5667     [1, 110, 298, 551, 945, 42, 247, 429, 722, 309...\n",
       "38790                               [1, 39, 2, 1154, 1233]\n",
       "32604    [1, 34, 380, 95, 197, 86, 345, 1564, 146, 4, 4...\n",
       "29729    [1, 214, 2, 1665, 56, 103, 978, 2062, 3, 93, 6...\n",
       "Name: vect, dtype: object"
      ]
     },
     "execution_count": 23,
     "metadata": {},
     "output_type": "execute_result"
    }
   ],
   "source": [
    "X_train[:5]"
   ]
  },
  {
   "cell_type": "code",
   "execution_count": 24,
   "id": "f1ede1ab",
   "metadata": {},
   "outputs": [
    {
     "data": {
      "text/plain": [
       "9952     2\n",
       "5667     2\n",
       "38790    1\n",
       "32604    2\n",
       "29729    1\n",
       "Name: Positive, dtype: int32"
      ]
     },
     "execution_count": 24,
     "metadata": {},
     "output_type": "execute_result"
    }
   ],
   "source": [
    "y_train[:5]"
   ]
  },
  {
   "cell_type": "code",
   "execution_count": 25,
   "id": "21569f8d",
   "metadata": {},
   "outputs": [],
   "source": [
    "from sklearn.preprocessing import OneHotEncoder\n",
    "ohe = OneHotEncoder(sparse=False)\n",
    "y_train = ohe.fit_transform(np.array(y_train).reshape(-1, 1))\n",
    "y_test = ohe.fit_transform(np.array(y_test).reshape(-1, 1))"
   ]
  },
  {
   "cell_type": "code",
   "execution_count": 26,
   "id": "2b6aebf9",
   "metadata": {},
   "outputs": [
    {
     "data": {
      "text/plain": [
       "array([[0., 0., 1., 0.],\n",
       "       [0., 0., 1., 0.],\n",
       "       [0., 1., 0., 0.],\n",
       "       [0., 0., 1., 0.],\n",
       "       [0., 1., 0., 0.]])"
      ]
     },
     "execution_count": 26,
     "metadata": {},
     "output_type": "execute_result"
    }
   ],
   "source": [
    "y_train[:5]"
   ]
  },
  {
   "cell_type": "code",
   "execution_count": 27,
   "id": "5270bcad",
   "metadata": {},
   "outputs": [
    {
     "name": "stdout",
     "output_type": "stream",
     "text": [
      "Length examples: [128, 128]\n",
      "=====================================\n",
      "Entry example: [   1   39    2 1154 1233    0    0    0    0    0    0    0    0    0\n",
      "    0    0    0    0    0    0    0    0    0    0    0    0    0    0\n",
      "    0    0    0    0    0    0    0    0    0    0    0    0    0    0\n",
      "    0    0    0    0    0    0    0    0    0    0    0    0    0    0\n",
      "    0    0    0    0    0    0    0    0    0    0    0    0    0    0\n",
      "    0    0    0    0    0    0    0    0    0    0    0    0    0    0\n",
      "    0    0    0    0    0    0    0    0    0    0    0    0    0    0\n",
      "    0    0    0    0    0    0    0    0    0    0    0    0    0    0\n",
      "    0    0    0    0    0    0    0    0    0    0    0    0    0    0\n",
      "    0    0]\n"
     ]
    }
   ],
   "source": [
    "from random import randint\n",
    "\n",
    "MAX_SEQ_LEN = 128 # Final sequence length\n",
    "\n",
    "train_data = tf.keras.preprocessing.sequence.pad_sequences(\n",
    "    X_train,\n",
    "    value=word_vocab[\"<PAD>\"],\n",
    "    padding='post',\n",
    "    maxlen=MAX_SEQ_LEN)\n",
    "\n",
    "valid_data = tf.keras.preprocessing.sequence.pad_sequences(\n",
    "    X_test,\n",
    "    value=word_vocab[\"<PAD>\"],\n",
    "    padding='post',\n",
    "    maxlen=MAX_SEQ_LEN)\n",
    "\n",
    "print(\"Length examples: {}\".format([len(train_data[randint(1, 100)]), len(train_data[1])]))\n",
    "print('=====================================')\n",
    "print(\"Entry example: {}\".format(train_data[randint(1, 100)]))"
   ]
  },
  {
   "cell_type": "code",
   "execution_count": 28,
   "id": "95dda052",
   "metadata": {},
   "outputs": [
    {
     "name": "stdout",
     "output_type": "stream",
     "text": [
      "Model: \"sequential\"\n",
      "_________________________________________________________________\n",
      " Layer (type)                Output Shape              Param #   \n",
      "=================================================================\n",
      " embedding (Embedding)       (None, None, 64)          1725440   \n",
      "                                                                 \n",
      " bidirectional (Bidirection  (None, None, 64)          24832     \n",
      " al)                                                             \n",
      "                                                                 \n",
      " batch_normalization (Batch  (None, None, 64)          256       \n",
      " Normalization)                                                  \n",
      "                                                                 \n",
      " bidirectional_1 (Bidirecti  (None, None, 64)          24832     \n",
      " onal)                                                           \n",
      "                                                                 \n",
      " batch_normalization_1 (Bat  (None, None, 64)          256       \n",
      " chNormalization)                                                \n",
      "                                                                 \n",
      " bidirectional_2 (Bidirecti  (None, 64)                24832     \n",
      " onal)                                                           \n",
      "                                                                 \n",
      " dense (Dense)               (None, 4)                 260       \n",
      "                                                                 \n",
      "=================================================================\n",
      "Total params: 1800708 (6.87 MB)\n",
      "Trainable params: 1800452 (6.87 MB)\n",
      "Non-trainable params: 256 (1.00 KB)\n",
      "_________________________________________________________________\n"
     ]
    }
   ],
   "source": [
    "BATCH_SIZE = 256\n",
    "\n",
    "model_lstm = tf.keras.Sequential([\n",
    "    tf.keras.layers.Embedding(26960, 64),\n",
    "    tf.keras.layers.Bidirectional(\n",
    "        tf.keras.layers.LSTM(32, return_sequences=True, dropout=0.5, recurrent_dropout=0.5)\n",
    "        ),\n",
    "    tf.keras.layers.BatchNormalization(),\n",
    "    tf.keras.layers.Bidirectional(\n",
    "        tf.keras.layers.LSTM(32, return_sequences=True, dropout=0.5, recurrent_dropout=0.5)\n",
    "        ),\n",
    "    tf.keras.layers.BatchNormalization(),\n",
    "    tf.keras.layers.Bidirectional(\n",
    "        tf.keras.layers.LSTM(32, return_sequences=False, dropout=0.5, recurrent_dropout=0.5)\n",
    "        ),\n",
    "    tf.keras.layers.Dense(4, activation='softmax'),\n",
    "])\n",
    "model_lstm.summary()\n",
    "\n",
    "model_lstm.compile(optimizer=tf.keras.optimizers.Adam(1e-3),\n",
    "                loss=tf.keras.losses.categorical_crossentropy,\n",
    "                metrics=[tf.keras.metrics.AUC()])\n",
    "# keras.utils.plot_model(model_lstm)"
   ]
  },
  {
   "cell_type": "code",
   "execution_count": 29,
   "id": "a6383215",
   "metadata": {},
   "outputs": [
    {
     "data": {
      "image/png": "[encoded data removed]",
      "text/plain": [
       "<Figure size 1200x800 with 2 Axes>"
      ]
     },
     "metadata": {},
     "output_type": "display_data"
    },
    {
     "name": "stdout",
     "output_type": "stream",
     "text": [
      "auc\n",
      "\ttraining         \t (min:    0.748, max:    0.886, cur:    0.886)\n",
      "\tvalidation       \t (min:    0.822, max:    0.903, cur:    0.903)\n",
      "Loss\n",
      "\ttraining         \t (min:    0.814, max:    1.157, cur:    0.814)\n",
      "\tvalidation       \t (min:    0.760, max:    1.107, cur:    0.760)\n",
      "232/232 [==============================] - 1771s 8s/step - loss: 0.8138 - auc: 0.8864 - val_loss: 0.7601 - val_auc: 0.9027\n"
     ]
    }
   ],
   "source": [
    "EPOCHS = 2\n",
    "history = model_lstm.fit(\n",
    "    train_data, y_train,\n",
    "    batch_size=BATCH_SIZE,\n",
    "    validation_data=(valid_data, y_test),\n",
    "    epochs=EPOCHS,\n",
    "    callbacks=[PlotLossesCallback()])"
   ]
  },
  {
   "cell_type": "code",
   "execution_count": 32,
   "id": "8b3c5090",
   "metadata": {},
   "outputs": [
    {
     "name": "stdout",
     "output_type": "stream",
     "text": [
      "1/1 [==============================] - 0s 157ms/step\n"
     ]
    },
    {
     "data": {
      "text/plain": [
       "array([[0.03775556, 0.41430688, 0.27735   , 0.2705876 ]], dtype=float32)"
      ]
     },
     "execution_count": 32,
     "metadata": {},
     "output_type": "execute_result"
    }
   ],
   "source": [
    "model_lstm.predict(valid_data[0, None])"
   ]
  },
  {
   "cell_type": "code",
   "execution_count": 31,
   "id": "adb7ea7e",
   "metadata": {},
   "outputs": [
    {
     "name": "stdout",
     "output_type": "stream",
     "text": [
      "463/463 [==============================] - 30s 64ms/step - loss: 0.7601 - auc: 0.9027\n",
      "Test loss: 0.7601\n",
      "Test accuracy: 90.27 %\n"
     ]
    }
   ],
   "source": [
    "results = model_lstm.evaluate(valid_data, y_test)\n",
    "\n",
    "print('Test loss: {:.4f}'.format(results[0]))\n",
    "print('Test accuracy: {:.2f} %'.format(results[1]*100))"
   ]
  },
  {
   "cell_type": "code",
   "execution_count": null,
   "id": "eb2a63dd",
   "metadata": {},
   "outputs": [],
   "source": []
  }
 ],
 "metadata": {
  "kernelspec": {
   "display_name": "Python 3 (ipykernel)",
   "language": "python",
   "name": "python3"
  },
  "language_info": {
   "codemirror_mode": {
    "name": "ipython",
    "version": 3
   },
   "file_extension": ".py",
   "mimetype": "text/x-python",
   "name": "python",
   "nbconvert_exporter": "python",
   "pygments_lexer": "ipython3",
   "version": "3.11.4"
  }
 },
 "nbformat": 4,
 "nbformat_minor": 5
}
