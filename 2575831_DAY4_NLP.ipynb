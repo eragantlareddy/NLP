{
 "cells": [
  {
   "cell_type": "code",
   "execution_count": 1,
   "id": "dfc2e8f6",
   "metadata": {},
   "outputs": [
    {
     "name": "stderr",
     "output_type": "stream",
     "text": [
      "[nltk_data] Downloading package words to\n",
      "[nltk_data]     C:\\Users\\phani\\AppData\\Roaming\\nltk_data...\n",
      "[nltk_data]   Unzipping corpora\\words.zip.\n",
      "[nltk_data] Downloading package punkt to\n",
      "[nltk_data]     C:\\Users\\phani\\AppData\\Roaming\\nltk_data...\n",
      "[nltk_data]   Unzipping tokenizers\\punkt.zip.\n",
      "[nltk_data] Downloading package stopwords to\n",
      "[nltk_data]     C:\\Users\\phani\\AppData\\Roaming\\nltk_data...\n",
      "[nltk_data]   Package stopwords is already up-to-date!\n"
     ]
    },
    {
     "name": "stdout",
     "output_type": "stream",
     "text": [
      "First 20 words in the normalized list: ['foregate', 'ahimsa', 'unshapen', 'gamophagy', 'dissent', 'autocorrosion', 'plastrum', 'playbill', 'picus', 'featherway', 'presumptious', 'newsboy', 'khaiki', 'kha', 'brachydodrome', 'odontomous', 'bradyphemia', 'facient', 'unrevertible', 'combing']\n",
      "Corrected sentence: the new abaton is great\n"
     ]
    }
   ],
   "source": [
    "import nltk\n",
    "import string\n",
    "from nltk.corpus import words\n",
    "from nltk.metrics import edit_distance\n",
    "\n",
    "nltk.download('words')\n",
    "nltk.download('punkt')\n",
    "nltk.download('stopwords')\n",
    "\n",
    "# Step 1: Get a list of valid words and normalize casing\n",
    "valid_words = set(words.words())\n",
    "valid_words_lower = {word.lower() for word in valid_words}\n",
    "\n",
    "# Step 2: Look at the first 20 words in the list\n",
    "first_20_words = list(valid_words_lower)[:20]\n",
    "print(\"First 20 words in the normalized list:\", first_20_words)\n",
    "\n",
    "# Step 3: Create a list of stop words including NLTK stopwords and punctuation\n",
    "stop_words = set(nltk.corpus.stopwords.words('english'))\n",
    "stop_words.update(set(string.punctuation))\n",
    "\n",
    "# Step 4: Define a function to correct a single term\n",
    "def get_correct_term(term):\n",
    "    if term.lower() in valid_words_lower:\n",
    "        return term\n",
    "    else:\n",
    "        distances = {word: edit_distance(term, word) for word in list(valid_words_lower)[:20000]}\n",
    "        sorted_distances = sorted(distances, key=distances.get)\n",
    "        return sorted_distances[0]\n",
    "\n",
    "# Step 8: Define a function for spelling correction in any given input sentence\n",
    "def correct_spelling(sentence):\n",
    "    tokens = nltk.word_tokenize(sentence.lower())\n",
    "    corrected_sentence = [get_correct_term(token) if token not in stop_words else token for token in tokens]\n",
    "    return ' '.join(corrected_sentence)\n",
    "\n",
    "# Testing the function\n",
    "input_sentence = \"The new abacos is great\"\n",
    "corrected_sentence = correct_spelling(input_sentence)\n",
    "print(\"Corrected sentence:\", corrected_sentence)"
   ]
  },
  {
   "cell_type": "code",
   "execution_count": null,
   "id": "3023a803",
   "metadata": {},
   "outputs": [],
   "source": []
  }
 ],
 "metadata": {
  "kernelspec": {
   "display_name": "Python 3 (ipykernel)",
   "language": "python",
   "name": "python3"
  },
  "language_info": {
   "codemirror_mode": {
    "name": "ipython",
    "version": 3
   },
   "file_extension": ".py",
   "mimetype": "text/x-python",
   "name": "python",
   "nbconvert_exporter": "python",
   "pygments_lexer": "ipython3",
   "version": "3.11.4"
  }
 },
 "nbformat": 4,
 "nbformat_minor": 5
}
